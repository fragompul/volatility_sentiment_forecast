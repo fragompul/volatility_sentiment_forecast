{
 "cells": [
  {
   "cell_type": "code",
   "execution_count": null,
   "id": "94b3c512-9c0d-4a16-b265-9f640931d83c",
   "metadata": {},
   "outputs": [],
   "source": [
    "import pandas as pd\n",
    "import numpy as np\n",
    "from pathlib import Path\n",
    "import torch\n",
    "import joblib\n",
    "import matplotlib.pyplot as plt\n",
    "from sklearn.metrics import mean_squared_error, mean_absolute_error, r2_score\n",
    "\n",
    "import pytorch_lightning as pl\n",
    "from pytorch_forecasting.models import TemporalFusionTransformer\n",
    "from pytorch_forecasting import TimeSeriesDataSet"
   ]
  },
  {
   "cell_type": "code",
   "execution_count": null,
   "id": "5e52d2fc-dd08-4146-91e6-13002a443042",
   "metadata": {},
   "outputs": [],
   "source": [
    "# Paths\n",
    "MODELS_DIR = Path(\"../models\")\n",
    "PREDICTIONS_DIR = Path(\"../predictions\")\n",
    "PREDICTIONS_DIR.mkdir(exist_ok=True)\n",
    "\n",
    "# Assets to evaluate\n",
    "ASSETS = [\"AAPL\", \"IBEX35\", \"MSFT\", \"NASDAQ\", \"S&P500\"]\n",
    "\n",
    "# Matplotlib style\n",
    "plt.style.use(\"seaborn-v0_8-darkgrid\")"
   ]
  },
  {
   "cell_type": "code",
   "execution_count": null,
   "id": "dca92e89-1fd1-43f3-9412-d2cad962734a",
   "metadata": {},
   "outputs": [],
   "source": [
    "def inverse_transform(scaler_path, data):\n",
    "    # Inverse transform scaled data using a saved scaler\n",
    "    scaler = joblib.load(scaler_path)\n",
    "    return scaler.inverse_transform(np.array(data).reshape(-1, 1)).flatten()"
   ]
  },
  {
   "cell_type": "code",
   "execution_count": null,
   "id": "5205a63e-5e42-48df-824b-ea09f4d2c30b",
   "metadata": {},
   "outputs": [],
   "source": [
    "def evaluate_predictions(y_true, y_pred):\n",
    "    # Compute RMSE, MAE and R² metrics\n",
    "    rmse = np.sqrt(mean_squared_error(y_true, y_pred))\n",
    "    mae = mean_absolute_error(y_true, y_pred)\n",
    "    r2 = r2_score(y_true, y_pred)\n",
    "    return rmse, mae, r2"
   ]
  },
  {
   "cell_type": "code",
   "execution_count": null,
   "id": "8877500b-1eb8-432b-afe3-08ab6239858d",
   "metadata": {},
   "outputs": [],
   "source": [
    "# Evaluate TFT predictions\n",
    "results = []\n",
    "\n",
    "for asset in ASSETS:\n",
    "    print(f\"\\n=== Evaluating TFT for {asset} ===\")\n",
    "\n",
    "    # Load predictions file\n",
    "    df_pred = pd.read_csv(MODELS_DIR / f\"predictions_TFT_{asset}.csv\")\n",
    "\n",
    "    # Normalize column names to lowercase for safety\n",
    "    df_pred.columns = [c.lower() for c in df_pred.columns]\n",
    "\n",
    "    # Inverse transform if predictions are scaled\n",
    "    y_true_inv = inverse_transform(MODELS_DIR / f\"scaler_y_{asset}.pkl\", df_pred[\"actual_volatility\"])\n",
    "    y_pred_inv = inverse_transform(MODELS_DIR / f\"scaler_y_{asset}.pkl\", df_pred[\"predicted_volatility\"])\n",
    "\n",
    "    # Evaluate\n",
    "    rmse, mae, r2 = evaluate_predictions(y_true_inv, y_pred_inv)\n",
    "    print(f\"{asset} → RMSE: {rmse:.4f}, MAE: {mae:.4f}, R²: {r2:.4f}\")\n",
    "\n",
    "    # Save unscaled predictions\n",
    "    pd.DataFrame({\n",
    "        \"date\": df_pred[\"date\"],\n",
    "        \"y_true\": y_true_inv,\n",
    "        \"y_pred\": y_pred_inv\n",
    "    }).to_csv(PREDICTIONS_DIR / f\"predictions_tft_{asset}.csv\", index=False)\n",
    "    print(f\"Dataset saved in predictions_tft_{asset}.csv\")\n",
    "\n",
    "    # Append metrics\n",
    "    results.append({\n",
    "        \"asset\": asset,\n",
    "        \"RMSE_TFT\": rmse,\n",
    "        \"MAE_TFT\": mae,\n",
    "        \"R2_TFT\": r2\n",
    "    })\n"
   ]
  },
  {
   "cell_type": "code",
   "execution_count": null,
   "id": "0ee730b4-e3d8-4352-b7f8-1a1c4032e0c2",
   "metadata": {},
   "outputs": [],
   "source": [
    "# Save metrics and show summary\n",
    "metrics_df = pd.DataFrame(results)\n",
    "metrics_df.to_csv(PREDICTIONS_DIR / \"metrics_tft_summary.csv\", index=False)\n",
    "metrics_df"
   ]
  },
  {
   "cell_type": "code",
   "execution_count": null,
   "id": "c34672d3-db3c-469f-9e5a-8c39eae800a8",
   "metadata": {},
   "outputs": [],
   "source": [
    "# Plot TFT predictions\n",
    "for asset in ASSETS:\n",
    "    df_pred = pd.read_csv(PREDICTIONS_DIR / f\"predictions_tft_{asset}.csv\", parse_dates=[\"date\"])\n",
    "\n",
    "    plt.figure(figsize=(10, 5))\n",
    "    plt.plot(df_pred[\"date\"], df_pred[\"y_true\"], label=\"True\", color=\"black\")\n",
    "    plt.plot(df_pred[\"date\"], df_pred[\"y_pred\"], label=\"TFT Prediction\", color=\"red\")\n",
    "    plt.title(f\"TFT Predictions - {asset}\")\n",
    "    plt.xlabel(\"Date\")\n",
    "    plt.ylabel(\"5-day Volatility\")\n",
    "    plt.legend()\n",
    "    plt.show()"
   ]
  }
 ],
 "metadata": {
  "kernelspec": {
   "display_name": "Python (forecasting)",
   "language": "python",
   "name": "forecasting"
  },
  "language_info": {
   "codemirror_mode": {
    "name": "ipython",
    "version": 3
   },
   "file_extension": ".py",
   "mimetype": "text/x-python",
   "name": "python",
   "nbconvert_exporter": "python",
   "pygments_lexer": "ipython3",
   "version": "3.10.18"
  }
 },
 "nbformat": 4,
 "nbformat_minor": 5
}
