{
 "cells": [
  {
   "cell_type": "code",
   "execution_count": 1,
   "id": "cfc361c7-9fdf-4af7-9ba0-6c66bf4b43e6",
   "metadata": {},
   "outputs": [],
   "source": [
    "!pip install transformers torch pandas tqdm --quiet\n",
    "\n",
    "import pandas as pd\n",
    "from transformers import AutoTokenizer, AutoModelForSequenceClassification\n",
    "from transformers import pipeline\n",
    "from pathlib import Path\n",
    "from tqdm import tqdm"
   ]
  },
  {
   "cell_type": "code",
   "execution_count": 2,
   "id": "5857647c-3a32-467f-9dcd-72f24e628d8c",
   "metadata": {},
   "outputs": [],
   "source": [
    "# Paths\n",
    "PROCESSED_DATA_DIR = Path(\"../data/processed\")\n",
    "\n",
    "tweets_file = PROCESSED_DATA_DIR / \"tweet_finance_clean.csv\"\n",
    "news_file = PROCESSED_DATA_DIR / \"news_data_clean.csv\"\n",
    "\n",
    "# Choose financial sentiment model (FinBERT)\n",
    "MODEL_NAME = \"ProsusAI/finbert\""
   ]
  },
  {
   "cell_type": "code",
   "execution_count": 3,
   "id": "128b16eb-60d2-4fde-819c-f8707c737239",
   "metadata": {},
   "outputs": [
    {
     "data": {
      "application/vnd.jupyter.widget-view+json": {
       "model_id": "ae9e155d2bf24d5c8a4814161bdac28f",
       "version_major": 2,
       "version_minor": 0
      },
      "text/plain": [
       "tokenizer_config.json:   0%|          | 0.00/252 [00:00<?, ?B/s]"
      ]
     },
     "metadata": {},
     "output_type": "display_data"
    },
    {
     "name": "stderr",
     "output_type": "stream",
     "text": [
      "C:\\Users\\frang\\anaconda3\\Lib\\site-packages\\huggingface_hub\\file_download.py:143: UserWarning: `huggingface_hub` cache-system uses symlinks by default to efficiently store duplicated files but your machine does not support them in C:\\Users\\frang\\.cache\\huggingface\\hub\\models--ProsusAI--finbert. Caching files will still work but in a degraded version that might require more space on your disk. This warning can be disabled by setting the `HF_HUB_DISABLE_SYMLINKS_WARNING` environment variable. For more details, see https://huggingface.co/docs/huggingface_hub/how-to-cache#limitations.\n",
      "To support symlinks on Windows, you either need to activate Developer Mode or to run Python as an administrator. In order to activate developer mode, see this article: https://docs.microsoft.com/en-us/windows/apps/get-started/enable-your-device-for-development\n",
      "  warnings.warn(message)\n"
     ]
    },
    {
     "data": {
      "application/vnd.jupyter.widget-view+json": {
       "model_id": "7bfceb63ec7b4436a870e6252ad39af9",
       "version_major": 2,
       "version_minor": 0
      },
      "text/plain": [
       "config.json:   0%|          | 0.00/758 [00:00<?, ?B/s]"
      ]
     },
     "metadata": {},
     "output_type": "display_data"
    },
    {
     "data": {
      "application/vnd.jupyter.widget-view+json": {
       "model_id": "84e389d934594663be7b0f4eca3f8847",
       "version_major": 2,
       "version_minor": 0
      },
      "text/plain": [
       "vocab.txt: 0.00B [00:00, ?B/s]"
      ]
     },
     "metadata": {},
     "output_type": "display_data"
    },
    {
     "data": {
      "application/vnd.jupyter.widget-view+json": {
       "model_id": "be8c77cfe8a44b0ab2c55ca3f337cacd",
       "version_major": 2,
       "version_minor": 0
      },
      "text/plain": [
       "special_tokens_map.json:   0%|          | 0.00/112 [00:00<?, ?B/s]"
      ]
     },
     "metadata": {},
     "output_type": "display_data"
    },
    {
     "name": "stderr",
     "output_type": "stream",
     "text": [
      "Xet Storage is enabled for this repo, but the 'hf_xet' package is not installed. Falling back to regular HTTP download. For better performance, install the package with: `pip install huggingface_hub[hf_xet]` or `pip install hf_xet`\n"
     ]
    },
    {
     "data": {
      "application/vnd.jupyter.widget-view+json": {
       "model_id": "3c831d74546b4593aa51498189b6ae74",
       "version_major": 2,
       "version_minor": 0
      },
      "text/plain": [
       "pytorch_model.bin:   0%|          | 0.00/438M [00:00<?, ?B/s]"
      ]
     },
     "metadata": {},
     "output_type": "display_data"
    },
    {
     "name": "stderr",
     "output_type": "stream",
     "text": [
      "Device set to use cpu\n",
      "Xet Storage is enabled for this repo, but the 'hf_xet' package is not installed. Falling back to regular HTTP download. For better performance, install the package with: `pip install huggingface_hub[hf_xet]` or `pip install hf_xet`\n"
     ]
    }
   ],
   "source": [
    "# Load model\n",
    "tokenizer = AutoTokenizer.from_pretrained(MODEL_NAME)\n",
    "model = AutoModelForSequenceClassification.from_pretrained(MODEL_NAME)\n",
    "\n",
    "sentiment_pipeline = pipeline(\n",
    "    \"sentiment-analysis\",\n",
    "    model=model,\n",
    "    tokenizer=tokenizer,\n",
    "    truncation=True,\n",
    "    max_length=256,\n",
    "    device=-1\n",
    ")"
   ]
  },
  {
   "cell_type": "code",
   "execution_count": 4,
   "id": "ec12d9af-5f90-49bd-93a6-7368555fd4e0",
   "metadata": {},
   "outputs": [],
   "source": [
    "# Sentiment mapping\n",
    "label_to_score = {\n",
    "    \"positive\": 1,\n",
    "    \"neutral\": 0,\n",
    "    \"negative\": -1\n",
    "}"
   ]
  },
  {
   "cell_type": "code",
   "execution_count": 5,
   "id": "b7633f63-21ca-4aa8-9e16-2fd8c4a4ff43",
   "metadata": {},
   "outputs": [],
   "source": [
    "def get_sentiment_score(text):\n",
    "    if not isinstance(text, str) or text.strip() == \"\":\n",
    "        return None\n",
    "    result = sentiment_pipeline(text[:256])[0]\n",
    "    label = result['label'].lower()\n",
    "    return label_to_score.get(label, 0)"
   ]
  },
  {
   "cell_type": "code",
   "execution_count": 6,
   "id": "9900d686-90f2-4638-be24-3ea388f19501",
   "metadata": {},
   "outputs": [
    {
     "name": "stdout",
     "output_type": "stream",
     "text": [
      "Processing 100 tweets...\n"
     ]
    },
    {
     "name": "stderr",
     "output_type": "stream",
     "text": [
      "C:\\Users\\frang\\anaconda3\\Lib\\site-packages\\torch\\nn\\modules\\module.py:1762: FutureWarning: `encoder_attention_mask` is deprecated and will be removed in version 4.55.0 for `BertSdpaSelfAttention.forward`.\n",
      "  return forward_call(*args, **kwargs)\n",
      "  2%|█▋                                                                                | 2/100 [00:00<00:08, 10.92it/s]"
     ]
    },
    {
     "data": {
      "application/vnd.jupyter.widget-view+json": {
       "model_id": "e53c0970fe0543e689bae237a8e933e9",
       "version_major": 2,
       "version_minor": 0
      },
      "text/plain": [
       "model.safetensors:   0%|          | 0.00/438M [00:00<?, ?B/s]"
      ]
     },
     "metadata": {},
     "output_type": "display_data"
    },
    {
     "name": "stderr",
     "output_type": "stream",
     "text": [
      "100%|████████████████████████████████████████████████████████████████████████████████| 100/100 [00:15<00:00,  6.65it/s]"
     ]
    },
    {
     "name": "stdout",
     "output_type": "stream",
     "text": [
      "Saved tweet sentiment file.\n"
     ]
    },
    {
     "name": "stderr",
     "output_type": "stream",
     "text": [
      "\n"
     ]
    }
   ],
   "source": [
    "# Apply to tweets\n",
    "if tweets_file.exists():\n",
    "    tweets_df = pd.read_csv(tweets_file)\n",
    "    print(f\"Processing {tweets_df.shape[0]} tweets...\")\n",
    "\n",
    "    tqdm.pandas()\n",
    "    tweets_df[\"sentiment_score\"] = tweets_df[\"clean_text\"].progress_apply(get_sentiment_score)\n",
    "\n",
    "    # Save updated tweets with sentiment\n",
    "    tweets_df.to_csv(PROCESSED_DATA_DIR / \"tweet_finance_sentiment.csv\", index=False)\n",
    "    print(\"Saved tweet sentiment file.\")\n",
    "else:\n",
    "    print(\"No tweet data found\")"
   ]
  },
  {
   "cell_type": "code",
   "execution_count": 7,
   "id": "ac02f0fa-a3d6-4ed2-8988-372d28272cd7",
   "metadata": {},
   "outputs": [
    {
     "name": "stdout",
     "output_type": "stream",
     "text": [
      "Processing 1247 news articles...\n"
     ]
    },
    {
     "name": "stderr",
     "output_type": "stream",
     "text": [
      "C:\\Users\\frang\\anaconda3\\Lib\\site-packages\\torch\\nn\\modules\\module.py:1762: FutureWarning: `encoder_attention_mask` is deprecated and will be removed in version 4.55.0 for `BertSdpaSelfAttention.forward`.\n",
      "  return forward_call(*args, **kwargs)\n",
      "100%|██████████████████████████████████████████████████████████████████████████████| 1247/1247 [02:38<00:00,  7.89it/s]"
     ]
    },
    {
     "name": "stdout",
     "output_type": "stream",
     "text": [
      "Saved news sentiment file.\n"
     ]
    },
    {
     "name": "stderr",
     "output_type": "stream",
     "text": [
      "\n"
     ]
    }
   ],
   "source": [
    "# Apply to news\n",
    "if news_file.exists():\n",
    "    news_df = pd.read_csv(news_file)\n",
    "    print(f\"Processing {news_df.shape[0]} news articles...\")\n",
    "\n",
    "    tqdm.pandas()\n",
    "    news_df[\"sentiment_score\"] = news_df[\"clean_title\"].progress_apply(get_sentiment_score)\n",
    "\n",
    "    # Save updated news with sentiment\n",
    "    news_df.to_csv(PROCESSED_DATA_DIR / \"news_data_sentiment.csv\", index=False)\n",
    "    print(\"Saved news sentiment file.\")\n",
    "else:\n",
    "    print(\"No news data found\")"
   ]
  },
  {
   "cell_type": "code",
   "execution_count": 8,
   "id": "0b4baab4-9ce6-4328-8bde-ff0712d186ce",
   "metadata": {},
   "outputs": [],
   "source": [
    "# Aggregate daily sentiment\n",
    "# Tweets daily sentiment\n",
    "if tweets_file.exists():\n",
    "    tweets_df = pd.read_csv(PROCESSED_DATA_DIR / \"tweet_finance_sentiment.csv\")\n",
    "    tweets_df[\"date\"] = pd.to_datetime(tweets_df[\"date\"], errors='coerce').dt.date\n",
    "    tweet_sentiment_daily = tweets_df.groupby('date').agg(\n",
    "        tweet_sentiment_mean=('sentiment_score', 'mean'),\n",
    "        tweet_sentiment_std=('sentiment_score', 'std'),\n",
    "        tweet_count=('sentiment_score', 'count')\n",
    "    ).reset_index()\n",
    "else:\n",
    "    tweet_sentiment_daily = pd.DataFrame()\n",
    "\n",
    "# News daily sentiment\n",
    "if news_file.exists():\n",
    "    news_df = pd.read_csv(PROCESSED_DATA_DIR / \"news_data_sentiment.csv\")\n",
    "    if 'publishedAt' in news_df.columns:\n",
    "        news_df[\"date\"] = pd.to_datetime(news_df[\"publishedAt\"], errors='coerce').dt.date\n",
    "    elif 'date' in news_df.columns:\n",
    "        news_df[\"date\"] = pd.to_datetime(news_df[\"date\"], errors='coerce').dt.date\n",
    "\n",
    "    news_sentiment_daily = news_df.groupby('date').agg(\n",
    "        news_sentiment_mean=('sentiment_score', 'mean'),\n",
    "        news_sentiment_std=('sentiment_score', 'std'),\n",
    "        news_count=('sentiment_score', 'count')\n",
    "    ).reset_index()\n",
    "else:\n",
    "    news_sentiment_daily = pd.DataFrame()\n",
    "\n",
    "# Merge both\n",
    "if not tweet_sentiment_daily.empty and not news_sentiment_daily.empty:\n",
    "    sentiment_features = pd.merge(tweet_sentiment_daily, news_sentiment_daily, on=\"date\", how=\"outer\")\n",
    "elif not tweet_sentiment_daily.empty:\n",
    "    sentiment_features = tweet_sentiment_daily\n",
    "elif not news_sentiment_daily.empty:\n",
    "    sentiment_features = news_sentiment_daily\n",
    "else:\n",
    "    sentiment_features = pd.DataFrame()\n",
    "\n",
    "sentiment_features = sentiment_features.sort_values(\"date\")"
   ]
  },
  {
   "cell_type": "code",
   "execution_count": 9,
   "id": "2f07b66a-ae7e-46ab-b5c9-2f5106c4cd18",
   "metadata": {},
   "outputs": [
    {
     "name": "stdout",
     "output_type": "stream",
     "text": [
      "Updated sentiment features saved to ..\\data\\processed\\sentiment_features.csv\n"
     ]
    }
   ],
   "source": [
    "# Save sentiment features\n",
    "output_path = PROCESSED_DATA_DIR / \"sentiment_features.csv\"\n",
    "sentiment_features.to_csv(output_path, index=False)\n",
    "print(f\"Updated sentiment features saved to {output_path}\")"
   ]
  },
  {
   "cell_type": "code",
   "execution_count": 10,
   "id": "a45fa729-9155-4e18-92f3-04bfe347d14a",
   "metadata": {},
   "outputs": [
    {
     "data": {
      "text/html": [
       "<div>\n",
       "<style scoped>\n",
       "    .dataframe tbody tr th:only-of-type {\n",
       "        vertical-align: middle;\n",
       "    }\n",
       "\n",
       "    .dataframe tbody tr th {\n",
       "        vertical-align: top;\n",
       "    }\n",
       "\n",
       "    .dataframe thead th {\n",
       "        text-align: right;\n",
       "    }\n",
       "</style>\n",
       "<table border=\"1\" class=\"dataframe\">\n",
       "  <thead>\n",
       "    <tr style=\"text-align: right;\">\n",
       "      <th></th>\n",
       "      <th>date</th>\n",
       "      <th>tweet_sentiment_mean</th>\n",
       "      <th>tweet_sentiment_std</th>\n",
       "      <th>tweet_count</th>\n",
       "      <th>news_sentiment_mean</th>\n",
       "      <th>news_sentiment_std</th>\n",
       "      <th>news_count</th>\n",
       "    </tr>\n",
       "  </thead>\n",
       "  <tbody>\n",
       "    <tr>\n",
       "      <th>16</th>\n",
       "      <td>2025-07-18</td>\n",
       "      <td>NaN</td>\n",
       "      <td>NaN</td>\n",
       "      <td>NaN</td>\n",
       "      <td>-0.184211</td>\n",
       "      <td>0.691855</td>\n",
       "      <td>38</td>\n",
       "    </tr>\n",
       "    <tr>\n",
       "      <th>17</th>\n",
       "      <td>2025-07-19</td>\n",
       "      <td>NaN</td>\n",
       "      <td>NaN</td>\n",
       "      <td>NaN</td>\n",
       "      <td>0.363636</td>\n",
       "      <td>0.674200</td>\n",
       "      <td>11</td>\n",
       "    </tr>\n",
       "    <tr>\n",
       "      <th>18</th>\n",
       "      <td>2025-07-20</td>\n",
       "      <td>NaN</td>\n",
       "      <td>NaN</td>\n",
       "      <td>NaN</td>\n",
       "      <td>-0.125000</td>\n",
       "      <td>0.640870</td>\n",
       "      <td>8</td>\n",
       "    </tr>\n",
       "    <tr>\n",
       "      <th>19</th>\n",
       "      <td>2025-07-21</td>\n",
       "      <td>NaN</td>\n",
       "      <td>NaN</td>\n",
       "      <td>NaN</td>\n",
       "      <td>-0.019608</td>\n",
       "      <td>0.616123</td>\n",
       "      <td>51</td>\n",
       "    </tr>\n",
       "    <tr>\n",
       "      <th>20</th>\n",
       "      <td>2025-07-22</td>\n",
       "      <td>NaN</td>\n",
       "      <td>NaN</td>\n",
       "      <td>NaN</td>\n",
       "      <td>0.000000</td>\n",
       "      <td>0.679366</td>\n",
       "      <td>53</td>\n",
       "    </tr>\n",
       "    <tr>\n",
       "      <th>21</th>\n",
       "      <td>2025-07-23</td>\n",
       "      <td>NaN</td>\n",
       "      <td>NaN</td>\n",
       "      <td>NaN</td>\n",
       "      <td>-0.098039</td>\n",
       "      <td>0.538699</td>\n",
       "      <td>51</td>\n",
       "    </tr>\n",
       "    <tr>\n",
       "      <th>22</th>\n",
       "      <td>2025-07-24</td>\n",
       "      <td>NaN</td>\n",
       "      <td>NaN</td>\n",
       "      <td>NaN</td>\n",
       "      <td>-0.014706</td>\n",
       "      <td>0.680049</td>\n",
       "      <td>68</td>\n",
       "    </tr>\n",
       "    <tr>\n",
       "      <th>23</th>\n",
       "      <td>2025-07-25</td>\n",
       "      <td>NaN</td>\n",
       "      <td>NaN</td>\n",
       "      <td>NaN</td>\n",
       "      <td>-0.102041</td>\n",
       "      <td>0.549428</td>\n",
       "      <td>49</td>\n",
       "    </tr>\n",
       "    <tr>\n",
       "      <th>24</th>\n",
       "      <td>2025-07-26</td>\n",
       "      <td>NaN</td>\n",
       "      <td>NaN</td>\n",
       "      <td>NaN</td>\n",
       "      <td>0.076923</td>\n",
       "      <td>0.759555</td>\n",
       "      <td>13</td>\n",
       "    </tr>\n",
       "    <tr>\n",
       "      <th>25</th>\n",
       "      <td>2025-07-27</td>\n",
       "      <td>NaN</td>\n",
       "      <td>NaN</td>\n",
       "      <td>NaN</td>\n",
       "      <td>-0.300000</td>\n",
       "      <td>0.656947</td>\n",
       "      <td>20</td>\n",
       "    </tr>\n",
       "    <tr>\n",
       "      <th>26</th>\n",
       "      <td>2025-07-28</td>\n",
       "      <td>NaN</td>\n",
       "      <td>NaN</td>\n",
       "      <td>NaN</td>\n",
       "      <td>-0.090909</td>\n",
       "      <td>0.603023</td>\n",
       "      <td>44</td>\n",
       "    </tr>\n",
       "    <tr>\n",
       "      <th>27</th>\n",
       "      <td>2025-07-29</td>\n",
       "      <td>NaN</td>\n",
       "      <td>NaN</td>\n",
       "      <td>NaN</td>\n",
       "      <td>-0.081633</td>\n",
       "      <td>0.702280</td>\n",
       "      <td>49</td>\n",
       "    </tr>\n",
       "    <tr>\n",
       "      <th>28</th>\n",
       "      <td>2025-07-30</td>\n",
       "      <td>NaN</td>\n",
       "      <td>NaN</td>\n",
       "      <td>NaN</td>\n",
       "      <td>0.025000</td>\n",
       "      <td>0.711123</td>\n",
       "      <td>80</td>\n",
       "    </tr>\n",
       "    <tr>\n",
       "      <th>29</th>\n",
       "      <td>2025-07-31</td>\n",
       "      <td>0.071429</td>\n",
       "      <td>0.813250</td>\n",
       "      <td>28.0</td>\n",
       "      <td>0.318182</td>\n",
       "      <td>0.561258</td>\n",
       "      <td>44</td>\n",
       "    </tr>\n",
       "    <tr>\n",
       "      <th>30</th>\n",
       "      <td>2025-08-01</td>\n",
       "      <td>-0.125000</td>\n",
       "      <td>0.555066</td>\n",
       "      <td>72.0</td>\n",
       "      <td>-0.317073</td>\n",
       "      <td>0.686987</td>\n",
       "      <td>41</td>\n",
       "    </tr>\n",
       "  </tbody>\n",
       "</table>\n",
       "</div>"
      ],
      "text/plain": [
       "          date  tweet_sentiment_mean  tweet_sentiment_std  tweet_count  \\\n",
       "16  2025-07-18                   NaN                  NaN          NaN   \n",
       "17  2025-07-19                   NaN                  NaN          NaN   \n",
       "18  2025-07-20                   NaN                  NaN          NaN   \n",
       "19  2025-07-21                   NaN                  NaN          NaN   \n",
       "20  2025-07-22                   NaN                  NaN          NaN   \n",
       "21  2025-07-23                   NaN                  NaN          NaN   \n",
       "22  2025-07-24                   NaN                  NaN          NaN   \n",
       "23  2025-07-25                   NaN                  NaN          NaN   \n",
       "24  2025-07-26                   NaN                  NaN          NaN   \n",
       "25  2025-07-27                   NaN                  NaN          NaN   \n",
       "26  2025-07-28                   NaN                  NaN          NaN   \n",
       "27  2025-07-29                   NaN                  NaN          NaN   \n",
       "28  2025-07-30                   NaN                  NaN          NaN   \n",
       "29  2025-07-31              0.071429             0.813250         28.0   \n",
       "30  2025-08-01             -0.125000             0.555066         72.0   \n",
       "\n",
       "    news_sentiment_mean  news_sentiment_std  news_count  \n",
       "16            -0.184211            0.691855          38  \n",
       "17             0.363636            0.674200          11  \n",
       "18            -0.125000            0.640870           8  \n",
       "19            -0.019608            0.616123          51  \n",
       "20             0.000000            0.679366          53  \n",
       "21            -0.098039            0.538699          51  \n",
       "22            -0.014706            0.680049          68  \n",
       "23            -0.102041            0.549428          49  \n",
       "24             0.076923            0.759555          13  \n",
       "25            -0.300000            0.656947          20  \n",
       "26            -0.090909            0.603023          44  \n",
       "27            -0.081633            0.702280          49  \n",
       "28             0.025000            0.711123          80  \n",
       "29             0.318182            0.561258          44  \n",
       "30            -0.317073            0.686987          41  "
      ]
     },
     "execution_count": 10,
     "metadata": {},
     "output_type": "execute_result"
    }
   ],
   "source": [
    "# Quick check\n",
    "sentiment_features.tail(15)"
   ]
  }
 ],
 "metadata": {
  "kernelspec": {
   "display_name": "Python 3 (ipykernel)",
   "language": "python",
   "name": "python3"
  },
  "language_info": {
   "codemirror_mode": {
    "name": "ipython",
    "version": 3
   },
   "file_extension": ".py",
   "mimetype": "text/x-python",
   "name": "python",
   "nbconvert_exporter": "python",
   "pygments_lexer": "ipython3",
   "version": "3.13.5"
  }
 },
 "nbformat": 4,
 "nbformat_minor": 5
}
