{
 "cells": [
  {
   "cell_type": "code",
   "execution_count": 1,
   "id": "27c9e721-e243-4c9d-81d4-b53dc36d2270",
   "metadata": {},
   "outputs": [],
   "source": [
    "import pandas as pd\n",
    "import numpy as np\n",
    "import os\n",
    "from pathlib import Path\n",
    "\n",
    "# Display options\n",
    "pd.set_option('display.max_columns', None)\n",
    "pd.set_option('display.width', 120)"
   ]
  },
  {
   "cell_type": "code",
   "execution_count": 2,
   "id": "73e71cca-92b2-4328-912a-00953e399591",
   "metadata": {},
   "outputs": [],
   "source": [
    "# Paths\n",
    "RAW_DATA_DIR = Path(\"../data/raw\")\n",
    "PROCESSED_DATA_DIR = Path(\"../data/processed\")\n",
    "PROCESSED_DATA_DIR.mkdir(exist_ok=True)"
   ]
  },
  {
   "cell_type": "code",
   "execution_count": 3,
   "id": "2776dd50-a850-4aeb-ba0e-ee92eca5ee8c",
   "metadata": {},
   "outputs": [],
   "source": [
    "# Helper function\n",
    "def clean_market_data(df):\n",
    "    # Ensure datetime type\n",
    "    df['Date'] = pd.to_datetime(df['Date'], errors='coerce')\n",
    "    df = df.dropna(subset=['Date'])\n",
    "    df = df.sort_values('Date')\n",
    "\n",
    "    # Remove duplicates\n",
    "    df = df.drop_duplicates(subset=['Date'])\n",
    "\n",
    "    # Forward fill missing values\n",
    "    df = df.ffill()\n",
    "\n",
    "    return df"
   ]
  },
  {
   "cell_type": "code",
   "execution_count": 4,
   "id": "f3fd2eaa-84cc-4606-95cc-c143da5b44f3",
   "metadata": {},
   "outputs": [
    {
     "name": "stdout",
     "output_type": "stream",
     "text": [
      "Cleaning ..\\data\\raw\\AAPL_market.csv...\n",
      "Saved cleaned file to ..\\data\\processed\\AAPL_market.csv\n",
      "Cleaning ..\\data\\raw\\IBEX35_market.csv...\n",
      "Saved cleaned file to ..\\data\\processed\\IBEX35_market.csv\n",
      "Cleaning ..\\data\\raw\\MSFT_market.csv...\n",
      "Saved cleaned file to ..\\data\\processed\\MSFT_market.csv\n",
      "Cleaning ..\\data\\raw\\NASDAQ_market.csv...\n",
      "Saved cleaned file to ..\\data\\processed\\NASDAQ_market.csv\n",
      "Cleaning ..\\data\\raw\\S&P500_market.csv...\n",
      "Saved cleaned file to ..\\data\\processed\\S&P500_market.csv\n"
     ]
    }
   ],
   "source": [
    "# Load and clean each dataset\n",
    "market_files = [\n",
    "    \"AAPL_market.csv\",\n",
    "    \"IBEX35_market.csv\",\n",
    "    \"MSFT_market.csv\",\n",
    "    \"NASDAQ_market.csv\",\n",
    "    \"S&P500_market.csv\"\n",
    "]\n",
    "\n",
    "for file in market_files:\n",
    "    file_path = RAW_DATA_DIR / file\n",
    "    if file_path.exists():\n",
    "        print(f\"Cleaning {file_path}...\")\n",
    "        df = pd.read_csv(file_path)\n",
    "        df_clean = clean_market_data(df)\n",
    "\n",
    "        # Save cleaned version\n",
    "        output_path = PROCESSED_DATA_DIR / file\n",
    "        df_clean.to_csv(output_path, index=False)\n",
    "        print(f\"Saved cleaned file to {output_path}\")\n",
    "    else:\n",
    "        print(f\"File not found: {file}\")"
   ]
  },
  {
   "cell_type": "code",
   "execution_count": 5,
   "id": "2c820787-f43e-45ac-9ec8-df0c86fb8c42",
   "metadata": {},
   "outputs": [
    {
     "data": {
      "text/html": [
       "<div>\n",
       "<style scoped>\n",
       "    .dataframe tbody tr th:only-of-type {\n",
       "        vertical-align: middle;\n",
       "    }\n",
       "\n",
       "    .dataframe tbody tr th {\n",
       "        vertical-align: top;\n",
       "    }\n",
       "\n",
       "    .dataframe thead th {\n",
       "        text-align: right;\n",
       "    }\n",
       "</style>\n",
       "<table border=\"1\" class=\"dataframe\">\n",
       "  <thead>\n",
       "    <tr style=\"text-align: right;\">\n",
       "      <th></th>\n",
       "      <th>Date</th>\n",
       "      <th>Close</th>\n",
       "      <th>High</th>\n",
       "      <th>Low</th>\n",
       "      <th>Open</th>\n",
       "      <th>Volume</th>\n",
       "      <th>Ticker</th>\n",
       "    </tr>\n",
       "  </thead>\n",
       "  <tbody>\n",
       "    <tr>\n",
       "      <th>0</th>\n",
       "      <td>2015-01-02</td>\n",
       "      <td>24.288582</td>\n",
       "      <td>24.757336</td>\n",
       "      <td>23.848707</td>\n",
       "      <td>24.746228</td>\n",
       "      <td>212818400</td>\n",
       "      <td>AAPL</td>\n",
       "    </tr>\n",
       "    <tr>\n",
       "      <th>1</th>\n",
       "      <td>2015-01-05</td>\n",
       "      <td>23.604336</td>\n",
       "      <td>24.137516</td>\n",
       "      <td>23.417723</td>\n",
       "      <td>24.057539</td>\n",
       "      <td>257142000</td>\n",
       "      <td>AAPL</td>\n",
       "    </tr>\n",
       "    <tr>\n",
       "      <th>2</th>\n",
       "      <td>2015-01-06</td>\n",
       "      <td>23.606554</td>\n",
       "      <td>23.866479</td>\n",
       "      <td>23.244435</td>\n",
       "      <td>23.668758</td>\n",
       "      <td>263188400</td>\n",
       "      <td>AAPL</td>\n",
       "    </tr>\n",
       "    <tr>\n",
       "      <th>3</th>\n",
       "      <td>2015-01-07</td>\n",
       "      <td>23.937574</td>\n",
       "      <td>24.037545</td>\n",
       "      <td>23.704307</td>\n",
       "      <td>23.815387</td>\n",
       "      <td>160423600</td>\n",
       "      <td>AAPL</td>\n",
       "    </tr>\n",
       "    <tr>\n",
       "      <th>4</th>\n",
       "      <td>2015-01-08</td>\n",
       "      <td>24.857307</td>\n",
       "      <td>24.915069</td>\n",
       "      <td>24.148621</td>\n",
       "      <td>24.266367</td>\n",
       "      <td>237458000</td>\n",
       "      <td>AAPL</td>\n",
       "    </tr>\n",
       "  </tbody>\n",
       "</table>\n",
       "</div>"
      ],
      "text/plain": [
       "         Date      Close       High        Low       Open     Volume Ticker\n",
       "0  2015-01-02  24.288582  24.757336  23.848707  24.746228  212818400   AAPL\n",
       "1  2015-01-05  23.604336  24.137516  23.417723  24.057539  257142000   AAPL\n",
       "2  2015-01-06  23.606554  23.866479  23.244435  23.668758  263188400   AAPL\n",
       "3  2015-01-07  23.937574  24.037545  23.704307  23.815387  160423600   AAPL\n",
       "4  2015-01-08  24.857307  24.915069  24.148621  24.266367  237458000   AAPL"
      ]
     },
     "execution_count": 5,
     "metadata": {},
     "output_type": "execute_result"
    }
   ],
   "source": [
    "# Quick sanity check\n",
    "sample_df = pd.read_csv(PROCESSED_DATA_DIR / \"AAPL_market.csv\")\n",
    "sample_df.head()"
   ]
  }
 ],
 "metadata": {
  "kernelspec": {
   "display_name": "Python 3 (ipykernel)",
   "language": "python",
   "name": "python3"
  },
  "language_info": {
   "codemirror_mode": {
    "name": "ipython",
    "version": 3
   },
   "file_extension": ".py",
   "mimetype": "text/x-python",
   "name": "python",
   "nbconvert_exporter": "python",
   "pygments_lexer": "ipython3",
   "version": "3.13.5"
  }
 },
 "nbformat": 4,
 "nbformat_minor": 5
}
