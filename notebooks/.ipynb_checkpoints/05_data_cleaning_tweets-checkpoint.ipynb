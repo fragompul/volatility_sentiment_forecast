{
 "cells": [
  {
   "cell_type": "code",
   "execution_count": 1,
   "id": "d700a5bb-fe2e-4c94-8bd5-0a3668596a9e",
   "metadata": {},
   "outputs": [],
   "source": [
    "import pandas as pd\n",
    "import numpy as np\n",
    "import re\n",
    "import string\n",
    "import os\n",
    "from pathlib import Path"
   ]
  },
  {
   "cell_type": "code",
   "execution_count": 2,
   "id": "721debfe-7d7e-4cc0-9d40-99adf60c06b6",
   "metadata": {},
   "outputs": [],
   "source": [
    "# Paths\n",
    "RAW_DATA_DIR = Path(\"../data/raw\")\n",
    "PROCESSED_DATA_DIR = Path(\"../data/processed\")\n",
    "PROCESSED_DATA_DIR.mkdir(exist_ok=True)"
   ]
  },
  {
   "cell_type": "code",
   "execution_count": 3,
   "id": "fc08b130-0121-45dc-9411-33dbf5f644e3",
   "metadata": {},
   "outputs": [],
   "source": [
    "# Text cleaning function\n",
    "def clean_tweet_text(text):\n",
    "    text = str(text).lower()\n",
    "    text = re.sub(r\"http\\S+|www\\S+|https\\S+\", \"\", text)  # URLs\n",
    "    text = re.sub(r\"@\\w+\", \"\", text)  # Mentions\n",
    "    text = re.sub(r\"#\", \"\", text)  # Keep word but remove '#'\n",
    "    text = re.sub(r\"\\$\\w+\", \"\", text)  # Stock tickers\n",
    "    text = text.translate(str.maketrans(\"\", \"\", string.punctuation))\n",
    "    text = re.sub(r\"\\s+\", \" \", text).strip()\n",
    "    return text"
   ]
  },
  {
   "cell_type": "code",
   "execution_count": 4,
   "id": "8e345759-8c68-4941-bfe5-57918b496d49",
   "metadata": {},
   "outputs": [
    {
     "name": "stdout",
     "output_type": "stream",
     "text": [
      "Original shape: (100, 5)\n",
      "Columns: ['ticker', 'date', 'text', 'likes', 'retweets']\n",
      "Saved cleaned tweets to ..\\data\\processed\\tweet_finance_clean.csv\n"
     ]
    }
   ],
   "source": [
    "# Load and clean\n",
    "tweets_file = RAW_DATA_DIR / \"tweet_finance.csv\"\n",
    "\n",
    "if tweets_file.exists():\n",
    "    tweets_df = pd.read_csv(tweets_file)\n",
    "    print(f\"Original shape: {tweets_df.shape}\")\n",
    "    print(f\"Columns: {tweets_df.columns.tolist()}\")\n",
    "\n",
    "    # Remove duplicates based on ticker + date + text\n",
    "    tweets_df = tweets_df.drop_duplicates(subset=['ticker', 'date', 'text'], keep='first')\n",
    "\n",
    "    # Drop NA text\n",
    "    tweets_df = tweets_df.dropna(subset=['text'])\n",
    "\n",
    "    # Clean text\n",
    "    tweets_df['clean_text'] = tweets_df['text'].apply(clean_tweet_text)\n",
    "\n",
    "    # Drop rows with empty clean_text\n",
    "    tweets_df = tweets_df[tweets_df['clean_text'].str.strip() != \"\"]\n",
    "\n",
    "    # Save cleaned tweets\n",
    "    output_path = PROCESSED_DATA_DIR / \"tweet_finance_clean.csv\"\n",
    "    tweets_df.to_csv(output_path, index=False)\n",
    "    print(f\"Saved cleaned tweets to {output_path}\")\n",
    "else:\n",
    "    print(\"tweet_finance.csv not found\")"
   ]
  },
  {
   "cell_type": "code",
   "execution_count": 5,
   "id": "ea27eb74-20aa-47bf-adc5-b80be354c388",
   "metadata": {},
   "outputs": [
    {
     "data": {
      "text/html": [
       "<div>\n",
       "<style scoped>\n",
       "    .dataframe tbody tr th:only-of-type {\n",
       "        vertical-align: middle;\n",
       "    }\n",
       "\n",
       "    .dataframe tbody tr th {\n",
       "        vertical-align: top;\n",
       "    }\n",
       "\n",
       "    .dataframe thead th {\n",
       "        text-align: right;\n",
       "    }\n",
       "</style>\n",
       "<table border=\"1\" class=\"dataframe\">\n",
       "  <thead>\n",
       "    <tr style=\"text-align: right;\">\n",
       "      <th></th>\n",
       "      <th>text</th>\n",
       "      <th>clean_text</th>\n",
       "    </tr>\n",
       "  </thead>\n",
       "  <tbody>\n",
       "    <tr>\n",
       "      <th>0</th>\n",
       "      <td>Now its Apple's turn to pick a horse in the ra...</td>\n",
       "      <td>now its apples turn to pick a horse in the rac...</td>\n",
       "    </tr>\n",
       "    <tr>\n",
       "      <th>1</th>\n",
       "      <td>See that line for the AAPL stock?  That’s how ...</td>\n",
       "      <td>see that line for the aapl stock that’s how mu...</td>\n",
       "    </tr>\n",
       "    <tr>\n",
       "      <th>2</th>\n",
       "      <td>AAPL stock dips pre-earnings—AI hype or cash t...</td>\n",
       "      <td>aapl stock dips preearnings—ai hype or cash tr...</td>\n",
       "    </tr>\n",
       "    <tr>\n",
       "      <th>3</th>\n",
       "      <td>Apple Earnings Recap: iPhone Sales Beat Estima...</td>\n",
       "      <td>apple earnings recap iphone sales beat estimat...</td>\n",
       "    </tr>\n",
       "    <tr>\n",
       "      <th>4</th>\n",
       "      <td>Barclays maintains Apple $AAPL at Underweight ...</td>\n",
       "      <td>barclays maintains apple at underweight and ra...</td>\n",
       "    </tr>\n",
       "    <tr>\n",
       "      <th>5</th>\n",
       "      <td>Apple (AAPL) Shares Jump Following Earnings Re...</td>\n",
       "      <td>apple aapl shares jump following earnings report</td>\n",
       "    </tr>\n",
       "    <tr>\n",
       "      <th>6</th>\n",
       "      <td>@Abecrombietrade @munster_gene I've owned $AAP...</td>\n",
       "      <td>ive owned stock for 30 years ive enjoyed aroun...</td>\n",
       "    </tr>\n",
       "    <tr>\n",
       "      <th>7</th>\n",
       "      <td>$TSLA Which other company has a CEO publicly a...</td>\n",
       "      <td>which other company has a ceo publicly asking ...</td>\n",
       "    </tr>\n",
       "    <tr>\n",
       "      <th>8</th>\n",
       "      <td>Market Insight : Apple (AAPL) shows cautious o...</td>\n",
       "      <td>market insight apple aapl shows cautious optim...</td>\n",
       "    </tr>\n",
       "    <tr>\n",
       "      <th>9</th>\n",
       "      <td>B of A Securities maintains Apple $AAPL at Buy...</td>\n",
       "      <td>b of a securities maintains apple at buy and r...</td>\n",
       "    </tr>\n",
       "  </tbody>\n",
       "</table>\n",
       "</div>"
      ],
      "text/plain": [
       "                                                text  \\\n",
       "0  Now its Apple's turn to pick a horse in the ra...   \n",
       "1  See that line for the AAPL stock?  That’s how ...   \n",
       "2  AAPL stock dips pre-earnings—AI hype or cash t...   \n",
       "3  Apple Earnings Recap: iPhone Sales Beat Estima...   \n",
       "4  Barclays maintains Apple $AAPL at Underweight ...   \n",
       "5  Apple (AAPL) Shares Jump Following Earnings Re...   \n",
       "6  @Abecrombietrade @munster_gene I've owned $AAP...   \n",
       "7  $TSLA Which other company has a CEO publicly a...   \n",
       "8  Market Insight : Apple (AAPL) shows cautious o...   \n",
       "9  B of A Securities maintains Apple $AAPL at Buy...   \n",
       "\n",
       "                                          clean_text  \n",
       "0  now its apples turn to pick a horse in the rac...  \n",
       "1  see that line for the aapl stock that’s how mu...  \n",
       "2  aapl stock dips preearnings—ai hype or cash tr...  \n",
       "3  apple earnings recap iphone sales beat estimat...  \n",
       "4  barclays maintains apple at underweight and ra...  \n",
       "5   apple aapl shares jump following earnings report  \n",
       "6  ive owned stock for 30 years ive enjoyed aroun...  \n",
       "7  which other company has a ceo publicly asking ...  \n",
       "8  market insight apple aapl shows cautious optim...  \n",
       "9  b of a securities maintains apple at buy and r...  "
      ]
     },
     "execution_count": 5,
     "metadata": {},
     "output_type": "execute_result"
    }
   ],
   "source": [
    "# Check result\n",
    "tweets_df[['text', 'clean_text']].head(10)"
   ]
  }
 ],
 "metadata": {
  "kernelspec": {
   "display_name": "Python 3 (ipykernel)",
   "language": "python",
   "name": "python3"
  },
  "language_info": {
   "codemirror_mode": {
    "name": "ipython",
    "version": 3
   },
   "file_extension": ".py",
   "mimetype": "text/x-python",
   "name": "python",
   "nbconvert_exporter": "python",
   "pygments_lexer": "ipython3",
   "version": "3.13.5"
  }
 },
 "nbformat": 4,
 "nbformat_minor": 5
}
