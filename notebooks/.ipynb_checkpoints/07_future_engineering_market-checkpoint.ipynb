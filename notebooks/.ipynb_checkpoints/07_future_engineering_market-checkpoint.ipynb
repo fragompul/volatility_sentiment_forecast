{
 "cells": [
  {
   "cell_type": "code",
   "execution_count": 1,
   "id": "ce8ff37d-e03b-47fa-8b77-cc676a219831",
   "metadata": {},
   "outputs": [
    {
     "ename": "ModuleNotFoundError",
     "evalue": "No module named 'talib'",
     "output_type": "error",
     "traceback": [
      "\u001b[1;31m---------------------------------------------------------------------------\u001b[0m",
      "\u001b[1;31mModuleNotFoundError\u001b[0m                       Traceback (most recent call last)",
      "Cell \u001b[1;32mIn[1], line 4\u001b[0m\n\u001b[0;32m      2\u001b[0m \u001b[38;5;28;01mimport\u001b[39;00m\u001b[38;5;250m \u001b[39m\u001b[38;5;21;01mnumpy\u001b[39;00m\u001b[38;5;250m \u001b[39m\u001b[38;5;28;01mas\u001b[39;00m\u001b[38;5;250m \u001b[39m\u001b[38;5;21;01mnp\u001b[39;00m\n\u001b[0;32m      3\u001b[0m \u001b[38;5;28;01mfrom\u001b[39;00m\u001b[38;5;250m \u001b[39m\u001b[38;5;21;01mpathlib\u001b[39;00m\u001b[38;5;250m \u001b[39m\u001b[38;5;28;01mimport\u001b[39;00m Path\n\u001b[1;32m----> 4\u001b[0m \u001b[38;5;28;01mimport\u001b[39;00m\u001b[38;5;250m \u001b[39m\u001b[38;5;21;01mtalib\u001b[39;00m\n",
      "\u001b[1;31mModuleNotFoundError\u001b[0m: No module named 'talib'"
     ]
    }
   ],
   "source": [
    "import pandas as pd\n",
    "import numpy as np\n",
    "from pathlib import Path\n",
    "import talib"
   ]
  },
  {
   "cell_type": "code",
   "execution_count": null,
   "id": "6ac3fa18-8981-4f3c-9921-444e4d355a98",
   "metadata": {},
   "outputs": [],
   "source": [
    "# Paths\n",
    "PROCESSED_DATA_DIR = Path(\"../data/processed\")\n",
    "FEATURES_DATA_DIR = PROCESSED_DATA_DIR"
   ]
  },
  {
   "cell_type": "code",
   "execution_count": null,
   "id": "84229959-20bd-4b0e-a4ce-d110b1bbf2da",
   "metadata": {},
   "outputs": [],
   "source": [
    "# Helper function for features\n",
    "def add_technical_indicators(df):\n",
    "    # Sort by date just in case\n",
    "    df = df.sort_values(\"Date\").reset_index(drop=True)\n",
    "\n",
    "    # Daily returns\n",
    "    df[\"Return\"] = df[\"Close\"].pct_change()\n",
    "\n",
    "    # Historical volatility (rolling std of returns)\n",
    "    df[\"Volatility_5d\"] = df[\"Return\"].rolling(window=5).std() * np.sqrt(252)\n",
    "    df[\"Volatility_21d\"] = df[\"Return\"].rolling(window=21).std() * np.sqrt(252)\n",
    "\n",
    "    # RSI (Relative Strength Index)\n",
    "    df[\"RSI_14\"] = talib.RSI(df[\"Close\"], timeperiod=14)\n",
    "\n",
    "    # MACD\n",
    "    macd, macd_signal, macd_hist = talib.MACD(df[\"Close\"], fastperiod=12, slowperiod=26, signalperiod=9)\n",
    "    df[\"MACD\"] = macd\n",
    "    df[\"MACD_signal\"] = macd_signal\n",
    "    df[\"MACD_hist\"] = macd_hist\n",
    "\n",
    "    # ATR (Average True Range)\n",
    "    df[\"ATR_14\"] = talib.ATR(df[\"High\"], df[\"Low\"], df[\"Close\"], timeperiod=14)\n",
    "\n",
    "    # Moving averages\n",
    "    df[\"SMA_20\"] = df[\"Close\"].rolling(window=20).mean()\n",
    "    df[\"SMA_50\"] = df[\"Close\"].rolling(window=50).mean()\n",
    "    df[\"SMA_200\"] = df[\"Close\"].rolling(window=200).mean()\n",
    "\n",
    "    return df"
   ]
  },
  {
   "cell_type": "code",
   "execution_count": null,
   "id": "09aba6a7-3690-4aab-81b7-abf9dd640d7a",
   "metadata": {},
   "outputs": [],
   "source": [
    "# Process all market files\n",
    "market_files = [\n",
    "    \"AAPL_market.csv\",\n",
    "    \"IBEX35_market.csv\",\n",
    "    \"MSFT_market.csv\",\n",
    "    \"NASDAQ_market.csv\",\n",
    "    \"S&P500_market.csv\"\n",
    "]\n",
    "\n",
    "for file in market_files:\n",
    "    file_path = PROCESSED_DATA_DIR / file\n",
    "    if file_path.exists():\n",
    "        print(f\"Processing features for {file}...\")\n",
    "        df = pd.read_csv(file_path)\n",
    "\n",
    "        # Ensure column names are consistent\n",
    "        df.columns = [col.strip().capitalize() for col in df.columns]\n",
    "\n",
    "        # Add indicators\n",
    "        df_features = add_technical_indicators(df)\n",
    "\n",
    "        # Drop initial NaNs caused by rolling calculations\n",
    "        df_features = df_features.dropna()\n",
    "\n",
    "        # Save to processed folder\n",
    "        output_path = FEATURES_DATA_DIR / file.replace(\"_market.csv\", \"_features.csv\")\n",
    "        df_features.to_csv(output_path, index=False)\n",
    "        print(f\"Saved features to {output_path}\")\n",
    "    else:\n",
    "        print(f\"File not found: {file}\")"
   ]
  },
  {
   "cell_type": "code",
   "execution_count": null,
   "id": "4413a447-5e7b-429f-844d-cbd9efa2bfe7",
   "metadata": {},
   "outputs": [],
   "source": [
    "# Quick check\n",
    "sample_df = pd.read_csv(FEATURES_DATA_DIR / \"AAPL_features.csv\")\n",
    "sample_df.tail()"
   ]
  }
 ],
 "metadata": {
  "kernelspec": {
   "display_name": "Python 3 (ipykernel)",
   "language": "python",
   "name": "python3"
  },
  "language_info": {
   "codemirror_mode": {
    "name": "ipython",
    "version": 3
   },
   "file_extension": ".py",
   "mimetype": "text/x-python",
   "name": "python",
   "nbconvert_exporter": "python",
   "pygments_lexer": "ipython3",
   "version": "3.13.5"
  }
 },
 "nbformat": 4,
 "nbformat_minor": 5
}
