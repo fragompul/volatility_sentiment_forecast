{
 "cells": [
  {
   "cell_type": "code",
   "execution_count": 1,
   "id": "46591739-ea04-4778-8e2b-beaf102875bc",
   "metadata": {},
   "outputs": [
    {
     "name": "stdout",
     "output_type": "stream",
     "text": [
      "Requirement already satisfied: newsapi-python in c:\\users\\frang\\anaconda3\\lib\\site-packages (0.2.7)\n",
      "Requirement already satisfied: pandas in c:\\users\\frang\\anaconda3\\lib\\site-packages (2.2.3)\n",
      "Requirement already satisfied: requests<3.0.0 in c:\\users\\frang\\anaconda3\\lib\\site-packages (from newsapi-python) (2.32.3)\n",
      "Requirement already satisfied: charset-normalizer<4,>=2 in c:\\users\\frang\\anaconda3\\lib\\site-packages (from requests<3.0.0->newsapi-python) (3.3.2)\n",
      "Requirement already satisfied: idna<4,>=2.5 in c:\\users\\frang\\anaconda3\\lib\\site-packages (from requests<3.0.0->newsapi-python) (3.7)\n",
      "Requirement already satisfied: urllib3<3,>=1.21.1 in c:\\users\\frang\\anaconda3\\lib\\site-packages (from requests<3.0.0->newsapi-python) (2.3.0)\n",
      "Requirement already satisfied: certifi>=2017.4.17 in c:\\users\\frang\\anaconda3\\lib\\site-packages (from requests<3.0.0->newsapi-python) (2025.4.26)\n",
      "Requirement already satisfied: numpy>=1.26.0 in c:\\users\\frang\\anaconda3\\lib\\site-packages (from pandas) (2.1.3)\n",
      "Requirement already satisfied: python-dateutil>=2.8.2 in c:\\users\\frang\\anaconda3\\lib\\site-packages (from pandas) (2.9.0.post0)\n",
      "Requirement already satisfied: pytz>=2020.1 in c:\\users\\frang\\anaconda3\\lib\\site-packages (from pandas) (2024.1)\n",
      "Requirement already satisfied: tzdata>=2022.7 in c:\\users\\frang\\anaconda3\\lib\\site-packages (from pandas) (2025.2)\n",
      "Requirement already satisfied: six>=1.5 in c:\\users\\frang\\anaconda3\\lib\\site-packages (from python-dateutil>=2.8.2->pandas) (1.17.0)\n"
     ]
    }
   ],
   "source": [
    "!pip install newsapi-python pandas\n",
    "\n",
    "from newsapi import NewsApiClient\n",
    "import pandas as pd\n",
    "import os\n",
    "from datetime import datetime"
   ]
  },
  {
   "cell_type": "code",
   "execution_count": 2,
   "id": "24c800d7-a900-4982-867a-3347764f22e2",
   "metadata": {},
   "outputs": [],
   "source": [
    "os.makedirs(\"../data/raw\", exist_ok=True)"
   ]
  },
  {
   "cell_type": "code",
   "execution_count": 3,
   "id": "2fc104e9-599b-4d59-be05-310fae8e3cf7",
   "metadata": {},
   "outputs": [],
   "source": [
    "api_key = \"62b37c58bf32400287a1a4b76d4a173c\"\n",
    "newsapi = NewsApiClient(api_key=api_key)"
   ]
  },
  {
   "cell_type": "code",
   "execution_count": 4,
   "id": "fa7101f1-e9af-46c8-9286-23ca6133ec0e",
   "metadata": {},
   "outputs": [],
   "source": [
    "keywords = [\"S&P500\", \"NASDAQ\", \"AAPL\", \"MSFT\", \"IBEX35\"]\n",
    "from_date = \"2025-07-01\"\n",
    "to_date = datetime.today().strftime('%Y-%m-%d')"
   ]
  },
  {
   "cell_type": "code",
   "execution_count": 5,
   "id": "1fdbc47b-5531-4c45-ac27-cd25577b5167",
   "metadata": {},
   "outputs": [
    {
     "name": "stdout",
     "output_type": "stream",
     "text": [
      "Fetching news for: S&P500\n",
      "Fetching news for: NASDAQ\n",
      "Fetching news for: AAPL\n",
      "Fetching news for: MSFT\n",
      "Fetching news for: IBEX35\n",
      "News saved in ../data/raw/news_data.csv\n"
     ]
    }
   ],
   "source": [
    "# Collect news\n",
    "all_articles = []\n",
    "\n",
    "for keyword in keywords:\n",
    "    print(f\"Fetching news for: {keyword}\")\n",
    "    articles = newsapi.get_everything(\n",
    "        q=keyword,\n",
    "        from_param=from_date,\n",
    "        to=to_date,\n",
    "        language=\"en\",\n",
    "        sort_by=\"relevancy\",\n",
    "        page_size=100\n",
    "    )\n",
    "    \n",
    "    for article in articles['articles']:\n",
    "        all_articles.append([\n",
    "            article['publishedAt'],\n",
    "            article['source']['name'],\n",
    "            article['title'],\n",
    "            article['description'],\n",
    "            keyword\n",
    "        ])\n",
    "\n",
    "news_df = pd.DataFrame(all_articles, columns=[\"date\", \"source\", \"title\", \"description\", \"keyword\"])\n",
    "news_df.to_csv(\"../data/raw/news_data.csv\", index=False)\n",
    "print(\"News saved in ../data/raw/news_data.csv\")"
   ]
  },
  {
   "cell_type": "code",
   "execution_count": 6,
   "id": "69c7e767-2c4f-4801-8838-982ad42230d3",
   "metadata": {},
   "outputs": [
    {
     "data": {
      "text/html": [
       "<div>\n",
       "<style scoped>\n",
       "    .dataframe tbody tr th:only-of-type {\n",
       "        vertical-align: middle;\n",
       "    }\n",
       "\n",
       "    .dataframe tbody tr th {\n",
       "        vertical-align: top;\n",
       "    }\n",
       "\n",
       "    .dataframe thead th {\n",
       "        text-align: right;\n",
       "    }\n",
       "</style>\n",
       "<table border=\"1\" class=\"dataframe\">\n",
       "  <thead>\n",
       "    <tr style=\"text-align: right;\">\n",
       "      <th></th>\n",
       "      <th>date</th>\n",
       "      <th>source</th>\n",
       "      <th>title</th>\n",
       "      <th>description</th>\n",
       "      <th>keyword</th>\n",
       "    </tr>\n",
       "  </thead>\n",
       "  <tbody>\n",
       "    <tr>\n",
       "      <th>0</th>\n",
       "      <td>2025-07-11T15:00:11Z</td>\n",
       "      <td>Ritholtz.com</td>\n",
       "      <td>MiB: Richard Bernstein, CEO / CIO of RBA</td>\n",
       "      <td>﻿     This week, I speak with Richard Bernstei...</td>\n",
       "      <td>S&amp;P500</td>\n",
       "    </tr>\n",
       "    <tr>\n",
       "      <th>1</th>\n",
       "      <td>2025-07-09T18:52:10Z</td>\n",
       "      <td>Biztoc.com</td>\n",
       "      <td>Stock Market Today: Dow up 150 points after Fe...</td>\n",
       "      <td></td>\n",
       "      <td>S&amp;P500</td>\n",
       "    </tr>\n",
       "    <tr>\n",
       "      <th>2</th>\n",
       "      <td>2025-07-09T20:10:41Z</td>\n",
       "      <td>Biztoc.com</td>\n",
       "      <td>Nasdaq closes at new record as stocks rally af...</td>\n",
       "      <td></td>\n",
       "      <td>S&amp;P500</td>\n",
       "    </tr>\n",
       "    <tr>\n",
       "      <th>3</th>\n",
       "      <td>2025-07-01T14:00:18Z</td>\n",
       "      <td>Biztoc.com</td>\n",
       "      <td>Dow industrials inching upward in kickoff to y...</td>\n",
       "      <td></td>\n",
       "      <td>S&amp;P500</td>\n",
       "    </tr>\n",
       "    <tr>\n",
       "      <th>4</th>\n",
       "      <td>2025-07-15T07:55:10Z</td>\n",
       "      <td>Finextra</td>\n",
       "      <td>Corpay launches automated finance platform in UK</td>\n",
       "      <td>Corpay, the global S&amp;P500 corporate payments c...</td>\n",
       "      <td>S&amp;P500</td>\n",
       "    </tr>\n",
       "  </tbody>\n",
       "</table>\n",
       "</div>"
      ],
      "text/plain": [
       "                   date        source  \\\n",
       "0  2025-07-11T15:00:11Z  Ritholtz.com   \n",
       "1  2025-07-09T18:52:10Z    Biztoc.com   \n",
       "2  2025-07-09T20:10:41Z    Biztoc.com   \n",
       "3  2025-07-01T14:00:18Z    Biztoc.com   \n",
       "4  2025-07-15T07:55:10Z      Finextra   \n",
       "\n",
       "                                               title  \\\n",
       "0           MiB: Richard Bernstein, CEO / CIO of RBA   \n",
       "1  Stock Market Today: Dow up 150 points after Fe...   \n",
       "2  Nasdaq closes at new record as stocks rally af...   \n",
       "3  Dow industrials inching upward in kickoff to y...   \n",
       "4   Corpay launches automated finance platform in UK   \n",
       "\n",
       "                                         description keyword  \n",
       "0  ﻿     This week, I speak with Richard Bernstei...  S&P500  \n",
       "1                                                     S&P500  \n",
       "2                                                     S&P500  \n",
       "3                                                     S&P500  \n",
       "4  Corpay, the global S&P500 corporate payments c...  S&P500  "
      ]
     },
     "execution_count": 6,
     "metadata": {},
     "output_type": "execute_result"
    }
   ],
   "source": [
    "# Preview\n",
    "news_df.head()"
   ]
  }
 ],
 "metadata": {
  "kernelspec": {
   "display_name": "Python 3 (ipykernel)",
   "language": "python",
   "name": "python3"
  },
  "language_info": {
   "codemirror_mode": {
    "name": "ipython",
    "version": 3
   },
   "file_extension": ".py",
   "mimetype": "text/x-python",
   "name": "python",
   "nbconvert_exporter": "python",
   "pygments_lexer": "ipython3",
   "version": "3.13.5"
  }
 },
 "nbformat": 4,
 "nbformat_minor": 5
}
